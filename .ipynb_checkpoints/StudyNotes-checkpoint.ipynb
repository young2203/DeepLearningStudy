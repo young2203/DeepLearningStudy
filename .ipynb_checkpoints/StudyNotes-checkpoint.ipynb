{
 "cells": [
  {
   "cell_type": "markdown",
   "metadata": {},
   "source": [
    "### This script summarize the learning notes of neuron network and deep learning\n",
    "(The main reference is \"Neural Networks and Deep Learning\" written by Michael Nielsen)\n",
    "     \n",
    "To my own understanding, neural network is a method help people constructing the estimation function s.t.  \n",
    "For a given input (e.g. image with hand written digit), the estimation function can provide you the expected output you want      (e.g. digit in that image)     \n",
    "\n",
    "The difficulty is the constructing process, the relation between output and input is not always apparent.    \n",
    "Therefore, we have to use a structure of neuron network and a training process to find the best estimation function.    \n",
    "Here is an example of neuron network:  \n",
    "<img src=\"https://miro.medium.com/max/1400/1*ZB6H4HuF58VcMOWbdpcRxQ.png\" height=\"500\" width=\"600\">\n",
    "(Image source: Jayesh Bapu Ahire https://medium.com/coinmonks/the-artificial-neural-networks-handbook-part-1-f9ceb0e376b4)"
   ]
  },
  {
   "cell_type": "markdown",
   "metadata": {},
   "source": [
    "### 1. Sigmoid function\n",
    "Sigmoid function is frequently used in neuron network built-up, by reviewing it, we can understand how does the input and output look like for a single neuron\n",
    "\n",
    "e.g. The following figure shows a single neuron in network, x1~x3 is going to be the input, sigmoid function is frequently used to calculate the output value\n",
    "<img src=\"files\\Images\\SingleNeuron.PNG\" height=\"200\" width=\"200\">\n",
    "\n",
    "By making use of Sigmoid function, the output of this neuron will be defined as:\n",
    "$$ \\sigma(z)=\\frac {1}{1+e^{-z}}$$\n",
    "in which, $\\sigma(z)$ is the output and z depends on inputs of the neuron\n",
    "\n",
    "Furthermore, z depends on input weights $w$'s and bias $b$ s.t.\n",
    "$$ z = w \\cdot x + b = \\sum_j{w_jx_j} + b$$\n",
    "\n",
    "\n",
    "### 1.1 The shape of Sigmoid function"
   ]
  },
  {
   "cell_type": "code",
   "execution_count": 3,
   "metadata": {},
   "outputs": [
    {
     "data": {
      "image/png": "[encoded data removed]",
      "text/plain": [
       "<matplotlib.figure.Figure at 0x26213e36860>"
      ]
     },
     "metadata": {},
     "output_type": "display_data"
    }
   ],
   "source": [
    "import numpy as np\n",
    "import matplotlib.pyplot as plt\n",
    "left_limit = -8.0\n",
    "right_limit =8.0\n",
    "z= np.arange(left_limit,right_limit+0.1,0.1)\n",
    "sigma=1.0/(1.0+np.exp(-z))\n",
    "\n",
    "plt.plot(z, sigma, 'r-')\n",
    "plt.axis([left_limit,right_limit, -0.1, 1.25])\n",
    "plt.show()"
   ]
  },
  {
   "cell_type": "markdown",
   "metadata": {},
   "source": [
    "* From the plot we could tell there are at least these advantages of using this function:\n",
    "- 1. $ 0<\\sigma(z)<1$ , which ganrantee it's a well-defined probability function\n",
    " 2. $\\frac{\\sigma(z)+\\sigma(-z)}{2}=\\frac{1}{2}$, which tells us this function is symmetric with respect to straight line y=0.5"
   ]
  },
  {
   "cell_type": "markdown",
   "metadata": {},
   "source": [
    "### 1.2 Derivative of Sigmoid function\n",
    "Next, let's take a look at the shape of its derivative:\n",
    "$$ {\\sigma}^{'}(z)=\\frac {1}{(1+e^{-z})(1+e^{z})}$$"
   ]
  },
  {
   "cell_type": "code",
   "execution_count": 2,
   "metadata": {},
   "outputs": [
    {
     "data": {
      "image/png": "[encoded data removed]",
      "text/plain": [
       "<matplotlib.figure.Figure at 0x26209ef0fd0>"
      ]
     },
     "metadata": {},
     "output_type": "display_data"
    }
   ],
   "source": [
    "sigma_p=1.0/((1.0+np.exp(-z))*(1.0+np.exp(z)))\n",
    "plt.plot(z, sigma_p, 'b-')\n",
    "plt.axis([left_limit,right_limit,0.0,0.3])\n",
    "plt.show()"
   ]
  },
  {
   "cell_type": "markdown",
   "metadata": {},
   "source": [
    "### 2.1 Cost function and training of neuron network\n",
    "Assume we have a cost function for so constructed neuron network, and our training goal is to minimize the output of this cost function. During the training, we tune the weights and biases to minimize the cost function until we get best results for all of the input data. \n",
    "\n",
    "Let's take a look at one example:\n",
    "                    $$ c(w,b) = \\frac{1}{2n} \\sum_x{||y(x)-a||^2} \\tag{Eq-2.1}$$\n",
    "in which x is the input of during training, the defined cost function sums the error between estimation $y(x)$ given by network and the expected value $a$ for that input $x$, the errors are summed over the whole domain of input sets, e.g. all the $x$'s\n",
    "\n",
    "And we should expect to see that such combination of weights and biases will give the best results for any new given input. \n",
    "\n",
    "### 2.2 Gradient descent \n",
    "The training process of neuron network relies a lot on gradient descent. To my understanding, gradient descent is taking a strategy s.t. cost function can always decrease the most\n",
    "\n",
    "For example, apparently we have:\n",
    "$$\\Delta c = \\frac{\\partial c}{\\partial w} \\Delta w + \\frac{\\partial c}{\\partial b} \\Delta b$$\n",
    "The training process consists of many iteration substeps, in each substep we are going to make a small change to our neuron network by $(\\Delta w ,\\Delta b)$. During one iteration, if the step size (e.g. $\\sqrt {||\\Delta w||^2 + ||\\Delta b||^2 }$) has a fixed value, mathmetically we can prove that if $(\\Delta w, \\Delta b)$ follows the direction of gradient of cost function at point $(w,b)$ we will decrease the most, e.g.\n",
    "$$ (\\Delta w, \\Delta b) = -\\eta (\\frac{\\partial c}{\\partial w}, \\frac{\\partial c}{\\partial b}) $$\n",
    "in which we use $\\eta$ to control the step size and a negative symbol to guarantee the decrease of cost function.\n",
    "\n",
    "To summarize, let \n",
    "$$v = (w,b), \\nabla c = (\\frac{\\partial c}{\\partial w}, \\frac{\\partial c}{\\partial b})$$\n",
    "then:\n",
    "$$v^{'} = v - \\eta \\nabla c$$\n",
    "$$c^{'} = c - \\eta || \\nabla c ||^2 $$\n",
    "in each iteration, we update $v$ by $- \\eta \\nabla c$, and cost function decrease by $- \\eta || \\nabla c ||^2$"
   ]
  },
  {
   "cell_type": "markdown",
   "metadata": {},
   "source": [
    "### 2.3 Stochastic gradient descent\n",
    "In general, the training set can be very big (e.g. there are too many $x$'s). Recall our cost function as defined in (Eq-2.1), it relies on all the inputs. Thus it will cost too much to calculate gradient using all the $x$'s in every iterations. \n",
    "Therefore, a strategy of stochastic gradient descent is thus introduced. The key idea is similar to random sampling in statistics. A randomly chosen small sample can be used to estimate the behavior of the whole sample space, s.t.\n",
    "\n",
    "$$c^{'} = c - \\eta || \\frac{{\\nabla} c_m}{m} ||^2 $$\n",
    "in which ${\\nabla} c_m = \\sum\\limits_{x \\, in \\, m}{\\frac{\\partial c}{\\partial v}} $\n",
    "\n",
    "$$v^{'} = v - \\frac{\\eta}{m} {\\nabla} c_m $$\n",
    "\n",
    "Sometimes, this $\\frac{1}{m}$ term can be omitted, because it does not make any difference to the iteration process"
   ]
  },
  {
   "cell_type": "markdown",
   "metadata": {},
   "source": [
    "### 3.  One example: Implementation of previous principles \n",
    "Let's make use of previous principles to construct a simple neuron network and study its performance.   \n",
    "We will first give the class definition of our network."
   ]
  },
  {
   "cell_type": "code",
   "execution_count": 45,
   "metadata": {},
   "outputs": [],
   "source": [
    "import numpy as np\n",
    "\n",
    "class network(object):\n",
    "    def __init__(self, sizes):\n",
    "        '''Initiate the network by number of neurons in each layer, for example sizes = [2,3,1] will create a network with\n",
    "        input layer of 2 neurons, one hidden layer of 3 neurons and output layer of 1 neuron'''\n",
    "        self.num_layers  = len(sizes)\n",
    "        self.size    = sizes\n",
    "         #Initiate biases array, random number following Gaussian distributions with mean 0 and standard deviation 1\n",
    "        self.biases  = [ np.random.randn(y,1) for y in sizes[1:] ]\n",
    "         #Initiate weights matrix, pay attention to the matrix dimensions\n",
    "        self.weights = [ np.random.randn(y,x) for x,y in zip(sizes[:-1],sizes[1:])] \n",
    "\n",
    "    def feedforward(self,a):\n",
    "        '''Return the output of the network with input a'''\n",
    "        for w,b in zip(self.weights, self.biases):\n",
    "            a = self.sigmoid(np.dot(w,a) + b)\n",
    "        return a\n",
    "    \n",
    "    \n",
    "    # Miscellaneous functions \n",
    "    def sigmoid(self, z):\n",
    "        return 1.0/( 1.0 + np.exp(-z) )\n",
    "    def sigmoid_p(self, z):\n",
    "        '''The first derivative of sigmoid function'''\n",
    "        return 1.0/( 1.0 + np.exp(-z) )/( 1.0 + np.exp(z) )"
   ]
  },
  {
   "cell_type": "code",
   "execution_count": 46,
   "metadata": {},
   "outputs": [
    {
     "data": {
      "text/plain": [
       "array([[ 0.21002987]])"
      ]
     },
     "execution_count": 46,
     "metadata": {},
     "output_type": "execute_result"
    }
   ],
   "source": [
    "net = network([2,3,1])\n",
    "net.feedforward(np.array([[1.0],[2.0]]))"
   ]
  },
  {
   "cell_type": "code",
   "execution_count": 47,
   "metadata": {},
   "outputs": [
    {
     "data": {
      "text/plain": [
       "6.0"
      ]
     },
     "execution_count": 47,
     "metadata": {},
     "output_type": "execute_result"
    }
   ],
   "source": [
    "net.test(5)"
   ]
  },
  {
   "cell_type": "markdown",
   "metadata": {},
   "source": [
    "#### Load MNIST data\n",
    "Copied from Michael's code with no changes"
   ]
  },
  {
   "cell_type": "code",
   "execution_count": 55,
   "metadata": {},
   "outputs": [],
   "source": [
    "# Standard library\n",
    "import pickle\n",
    "import gzip\n",
    "\n",
    "# Third-party libraries\n",
    "import numpy as np\n",
    "\n",
    "def load_data():\n",
    "    \"\"\"Return the MNIST data as a tuple containing the training data, the validation data, and the test data.\n",
    "    The ``training_data`` is returned as a tuple with two entries. The first entry contains the actual training images.  \n",
    "    This is a numpy ndarray with 50,000 entries.  Each entry is, in turn, a numpy ndarray with 784 values, representing \n",
    "    the 28 * 28 = 784 pixels in a single MNIST image. The second entry in the ``training_data`` tuple is a numpy ndarray\n",
    "    containing 50,000 entries. Those entries are just the digit values (0...9) for the corresponding images contained \n",
    "    in the first entry of the tuple. The ``validation_data`` and ``test_data`` are similar, except each contains only \n",
    "    10,000 images. This is a nice data format, but for use in neural networks it's helpful to modify the format of the \n",
    "    ``training_data`` a little. That's done in the wrapper function ``load_data_wrapper()``, see below.\n",
    "    \"\"\"\n",
    "    f = gzip.open('.\\Data\\mnist.pkl.gz', 'rb')\n",
    "    training_data, validation_data, test_data = pickle.load(f, encoding=\"latin1\")\n",
    "    f.close()\n",
    "    return (training_data, validation_data, test_data)\n",
    "\n",
    "def load_data_wrapper():\n",
    "    \"\"\"Return a tuple containing ``(training_data, validation_data, test_data)``. Based on ``load_data``, but the format \n",
    "    is more convenient for use in our implementation of neural networks. In particular, ``training_data`` is a list containing \n",
    "    50,000 2-tuples ``(x, y)``.  ``x`` is a 784-dimensional numpy.ndarray containing the input image.  ``y`` is a 10-dimensional\n",
    "    numpy.ndarray representing the unit vector corresponding to the correct digit for ``x``. ``validation_data`` and ``test_data`` \n",
    "    are lists containing 10,000 2-tuples ``(x, y)``.  In each case, ``x`` is a 784-dimensional numpy.ndarry containing the input \n",
    "    image, and ``y`` is the corresponding classification, i.e., the digit values (integers) corresponding to ``x``.\n",
    "    Obviously, this means we're using slightly different formats for the training data and the validation / test data.  These \n",
    "    formats turn out to be the most convenient for use in our neural network code.\"\"\"\n",
    "    tr_d, va_d, te_d = load_data()\n",
    "    training_inputs = [np.reshape(x, (784, 1)) for x in tr_d[0]]\n",
    "    training_results = [vectorized_result(y) for y in tr_d[1]]\n",
    "    training_data = zip(training_inputs, training_results)\n",
    "    validation_inputs = [np.reshape(x, (784, 1)) for x in va_d[0]]\n",
    "    validation_data = zip(validation_inputs, va_d[1])\n",
    "    test_inputs = [np.reshape(x, (784, 1)) for x in te_d[0]]\n",
    "    test_data = zip(test_inputs, te_d[1])\n",
    "    return (training_data, validation_data, test_data)\n",
    "\n",
    "def vectorized_result(j):\n",
    "    \"\"\"Return a 10-dimensional unit vector with a 1.0 in the jth\n",
    "    position and zeroes elsewhere.  This is used to convert a digit\n",
    "    (0...9) into a corresponding desired output from the neural\n",
    "    network.\"\"\"\n",
    "    e = np.zeros((10, 1))\n",
    "    e[j] = 1.0\n",
    "    return e\n",
    "\n",
    "training_data, validation_data, test_data = load_data_wrapper()\n",
    "training_data = list(training_data)"
   ]
  },
  {
   "cell_type": "code",
   "execution_count": null,
   "metadata": {},
   "outputs": [],
   "source": []
  }
 ],
 "metadata": {
  "kernelspec": {
   "display_name": "Python 3",
   "language": "python",
   "name": "python3"
  },
  "language_info": {
   "codemirror_mode": {
    "name": "ipython",
    "version": 3
   },
   "file_extension": ".py",
   "mimetype": "text/x-python",
   "name": "python",
   "nbconvert_exporter": "python",
   "pygments_lexer": "ipython3",
   "version": "3.6.2"
  }
 },
 "nbformat": 4,
 "nbformat_minor": 2
}
