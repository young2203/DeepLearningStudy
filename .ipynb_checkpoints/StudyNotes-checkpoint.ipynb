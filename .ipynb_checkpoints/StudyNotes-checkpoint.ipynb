{
 "cells": [
  {
   "cell_type": "markdown",
   "metadata": {},
   "source": [
    "### This script summarize the learning notes of neuron network and deep learning\n",
    "(The main reference is \"Neural Networks and Deep Learning\" written by Michael Nielsen)\n",
    "     \n",
    "To my own understanding, neural network is a method help people constructing the estimation function s.t.  \n",
    "For a given input (e.g. image with hand written digit), the estimation function can provide you the expected output you want      (e.g. digit in that image)     \n",
    "\n",
    "The difficulty is the constructing process, the relation between output and input is not always apparent.    \n",
    "Therefore, we have to use a structure of neuron network and a training process to find the best estimation function.    \n",
    "Here is an example of neuron network:  \n",
    "<img src=\"https://miro.medium.com/max/1400/1*ZB6H4HuF58VcMOWbdpcRxQ.png\" height=\"500\" width=\"600\">\n",
    "(Image source: Jayesh Bapu Ahire https://medium.com/coinmonks/the-artificial-neural-networks-handbook-part-1-f9ceb0e376b4)"
   ]
  },
  {
   "cell_type": "markdown",
   "metadata": {},
   "source": [
    "### 1. Sigmoid function\n",
    "Sigmoid function is frequently used in neuron network built-up, by reviewing it, we can understand how does the input and output look like for a single neuron\n",
    "\n",
    "e.g. The following figure shows a single neuron in network, x1~x3 is going to be the input, sigmoid function is frequently used to calculate the output value\n",
    "<img src=\".\\Images\\SingleNeuron.PNG\" height=\"200\" width=\"200\">\n",
    "\n",
    "By making use of Sigmoid function, the output of this neuron will be defined as:\n",
    "$$ \\sigma(z)=\\frac {1}{1+e^{-z}}$$\n",
    "in which, $\\sigma(z)$ is the output and z depends on inputs of the neuron\n",
    "\n",
    "Furthermore, z depends on input weights $w$'s and bias $b$ s.t.\n",
    "$$ z = w \\cdot x + b = \\sum_j{w_jx_j} + b$$\n",
    "\n",
    "\n",
    "### 1.1 The shape of Sigmoid function"
   ]
  },
  {
   "cell_type": "code",
   "execution_count": 3,
   "metadata": {},
   "outputs": [
    {
     "data": {
      "image/png": "[encoded data removed]",
      "text/plain": [
       "<matplotlib.figure.Figure at 0x26213e36860>"
      ]
     },
     "metadata": {},
     "output_type": "display_data"
    }
   ],
   "source": [
    "import numpy as np\n",
    "import matplotlib.pyplot as plt\n",
    "left_limit = -8.0\n",
    "right_limit =8.0\n",
    "z= np.arange(left_limit,right_limit+0.1,0.1)\n",
    "sigma=1.0/(1.0+np.exp(-z))\n",
    "\n",
    "plt.plot(z, sigma, 'r-')\n",
    "plt.axis([left_limit,right_limit, -0.1, 1.25])\n",
    "plt.show()"
   ]
  },
  {
   "cell_type": "markdown",
   "metadata": {},
   "source": [
    "* From the plot we could tell there are at least these advantages of using this function:\n",
    "- 1. $ 0<\\sigma(z)<1$ , which ganrantee it's a well-defined probability function\n",
    " 2. $\\frac{\\sigma(z)+\\sigma(-z)}{2}=\\frac{1}{2}$, which tells us this function is symmetric with respect to straight line y=0.5"
   ]
  },
  {
   "cell_type": "markdown",
   "metadata": {},
   "source": [
    "### 1.2 Derivative of Sigmoid function\n",
    "Next, let's take a look at the shape of its derivative:\n",
    "$$ {\\sigma}^{'}(z)=\\frac {1}{(1+e^{-z})(1+e^{z})}$$"
   ]
  },
  {
   "cell_type": "code",
   "execution_count": 2,
   "metadata": {},
   "outputs": [
    {
     "data": {
      "image/png": "[encoded data removed]",
      "text/plain": [
       "<matplotlib.figure.Figure at 0x26209ef0fd0>"
      ]
     },
     "metadata": {},
     "output_type": "display_data"
    }
   ],
   "source": [
    "sigma_p=1.0/((1.0+np.exp(-z))*(1.0+np.exp(z)))\n",
    "plt.plot(z, sigma_p, 'b-')\n",
    "plt.axis([left_limit,right_limit,0.0,0.3])\n",
    "plt.show()"
   ]
  },
  {
   "cell_type": "markdown",
   "metadata": {},
   "source": [
    "### 2.1 Cost function and training of neuron network\n",
    "Assume we have a cost function for so constructed neuron network, and our training goal is to minimize the output of this cost function. During the training, we tune the weights and biases to minimize the cost function until we get best results for all of the input data. \n",
    "\n",
    "Let's take a look at one example:\n",
    "                    $$ c(w,b) = \\frac{1}{2n} \\sum_x{||y(x)-a||^2} \\tag{Eq-2.1}$$\n",
    "in which x is the input of during training, the defined cost function sums the error between estimation $y(x)$ given by network and the expected value $a$ for that input $x$, the errors are summed over the whole domain of input sets, e.g. all the $x$'s\n",
    "\n",
    "And we should expect to see that such combination of weights and biases will give the best results for any new given input. \n",
    "\n",
    "### 2.2 Gradient descent \n",
    "The training process of neuron network relies a lot on gradient descent. To my understanding, gradient descent is taking a strategy s.t. cost function can always decrease the most\n",
    "\n",
    "For example, apparently we have:\n",
    "$$\\Delta c = \\frac{\\partial c}{\\partial w} \\Delta w + \\frac{\\partial c}{\\partial b} \\Delta b$$\n",
    "The training process consists of many iteration substeps, in each substep we are going to make a small change to our neuron network by $(\\Delta w ,\\Delta b)$. During one iteration, if the step size (e.g. $\\sqrt {||\\Delta w||^2 + ||\\Delta b||^2 }$) has a fixed value, mathmetically we can prove that if $(\\Delta w, \\Delta b)$ follows the direction of gradient of cost function at point $(w,b)$ we will decrease the most, e.g.\n",
    "$$ (\\Delta w, \\Delta b) = -\\eta (\\frac{\\partial c}{\\partial w}, \\frac{\\partial c}{\\partial b}) $$\n",
    "in which we use $\\eta$ to control the step size and a negative symbol to guarantee the decrease of cost function.\n",
    "\n",
    "To summarize, let \n",
    "$$v = (w,b), \\nabla c = (\\frac{\\partial c}{\\partial w}, \\frac{\\partial c}{\\partial b})$$\n",
    "then:\n",
    "$$v^{'} = v - \\eta \\nabla c$$\n",
    "$$c^{'} = c - \\eta || \\nabla c ||^2 $$\n",
    "in each iteration, we update $v$ by $- \\eta \\nabla c$, and cost function decrease by $- \\eta || \\nabla c ||^2$"
   ]
  },
  {
   "cell_type": "markdown",
   "metadata": {},
   "source": [
    "### 2.3 Stochastic gradient descent\n",
    "In general, the training set can be very big (e.g. there are too many $x$'s). Recall our cost function as defined in (Eq-2.1), it relies on all the inputs. Thus it will cost too much to calculate gradient using all the $x$'s in every iterations. \n",
    "Therefore, a strategy of stochastic gradient descent is thus introduced. The key idea is similar to random sampling in statistics. A randomly chosen small sample can be used to estimate the behavior of the whole sample space, s.t.\n",
    "\n",
    "$$c^{'} = c - \\eta || \\frac{{\\nabla} c_m}{m} ||^2 $$\n",
    "in which ${\\nabla} c_m = \\sum\\limits_{x \\, in \\, m}{\\frac{\\partial c}{\\partial v}} $\n",
    "\n",
    "$$v^{'} = v - \\frac{\\eta}{m} {\\nabla} c_m $$\n",
    "\n",
    "Sometimes, this $\\frac{1}{m}$ term can be omitted, because it does not make any difference to the iteration process"
   ]
  },
  {
   "cell_type": "markdown",
   "metadata": {},
   "source": [
    "### 3.  One example: Implementation of previous principles \n",
    "Let's make use of previous principles to construct a simple neuron network and study its performance.   \n",
    "Before goes into details of neural network training, we have to take a look at loading MNIST data as preparation.\n",
    "We will later give the implementation of our network."
   ]
  },
  {
   "cell_type": "markdown",
   "metadata": {},
   "source": [
    "### 3.1  Load MNIST data\n",
    "Use pickle to transform original binary data into numpy array\n",
    "(Copied from Michael's code with no changes)"
   ]
  },
  {
   "cell_type": "code",
   "execution_count": 3,
   "metadata": {},
   "outputs": [],
   "source": [
    "# Standard library\n",
    "import pickle\n",
    "import gzip\n",
    "\n",
    "# Third-party libraries\n",
    "import numpy as np\n",
    "\n",
    "def load_data():\n",
    "    \"\"\"Return the MNIST data as a tuple containing the training data, the validation data, and the test \n",
    "    data. The ``training_data`` is returned as a tuple with two entries. The first entry contains the \n",
    "    actual training images. This is a numpy ndarray with 50,000 entries.  Each entry is, in turn, a numpy\n",
    "    ndarray with 784 values, representing the 28 * 28 = 784 pixels in a single MNIST image. The second \n",
    "    entry in the ``training_data`` tuple is a numpy ndarray containing 50,000 entries. Those entries are\n",
    "    just the digit values (0...9) for the corresponding images contained in the first entry of the tuple. \n",
    "    The ``validation_data`` and ``test_data`` are similar, except each contains only 10,000 images. \n",
    "    This is a nice data format, but for use in neural networks it's helpful to modify the format of the \n",
    "    ``training_data`` a little. That's done in the wrapper function ``load_data_wrapper()``, see below.\n",
    "    \"\"\"\n",
    "    f = gzip.open('.\\Data\\mnist.pkl.gz', 'rb')\n",
    "    training_data, validation_data, test_data = pickle.load(f, encoding=\"latin1\")\n",
    "    f.close()\n",
    "    return (training_data, validation_data, test_data)\n",
    "\n",
    "def load_data_wrapper():    \n",
    "    \"\"\"Return a tuple containing ``(training_data, validation_data, test_data)``. Based on ``load_data``,\n",
    "    but the format is more convenient for use in our implementation of neural networks. In particular, \n",
    "    ``training_data`` is a list containing 50,000 2-tuples ``(x, y)``.  ``x`` is a 784-dimensional \n",
    "    numpy.ndarray containing the input image.  ``y`` is a 10-dimensional numpy.ndarray representing the \n",
    "    unit vector corresponding to the correct digit for ``x``. ``validation_data`` and ``test_data`` are \n",
    "    lists containing 10,000 2-tuples ``(x, y)``.  In each case, ``x`` is a 784-dimensional numpy.ndarry \n",
    "    containing the input image, and ``y`` is the corresponding classification, i.e., the digit values \n",
    "    (integers) corresponding to ``x``. Obviously, this means we're using slightly different formats for \n",
    "    the training data and the validation / test data. These formats turn out to be the most convenient \n",
    "    for use in our neural network code.\"\"\"\n",
    "    tr_d, va_d, te_d = load_data()\n",
    "    training_inputs = [np.reshape(x, (784, 1)) for x in tr_d[0]]\n",
    "    training_results = [vectorized_result(y) for y in tr_d[1]]\n",
    "    training_data = zip(training_inputs, training_results)\n",
    "    validation_inputs = [np.reshape(x, (784, 1)) for x in va_d[0]]\n",
    "    validation_data = zip(validation_inputs, va_d[1])\n",
    "    test_inputs = [np.reshape(x, (784, 1)) for x in te_d[0]]\n",
    "    test_data = zip(test_inputs, te_d[1])\n",
    "    return (training_data, validation_data, test_data)\n",
    "\n",
    "def vectorized_result(j):\n",
    "    \"\"\"Return a 10-dimensional unit vector with a 1.0 in the jth position and zeroes elsewhere.  \n",
    "    This is used to convert a digit (0...9) into a corresponding desired output from the neural network.\n",
    "    \"\"\"\n",
    "    e = np.zeros((10, 1))\n",
    "    e[j] = 1.0\n",
    "    return e"
   ]
  },
  {
   "cell_type": "markdown",
   "metadata": {},
   "source": [
    "#### Visualization of sample image from MNIST dataset\n",
    "* Use one image from MNIST dataset to give direct visualization, which can help understanding the structure of the MNIST better"
   ]
  },
  {
   "cell_type": "code",
   "execution_count": 5,
   "metadata": {},
   "outputs": [
    {
     "name": "stdout",
     "output_type": "stream",
     "text": [
      "The hand-written digit in this image is 5\n"
     ]
    },
    {
     "data": {
      "image/png": "[encoded data removed]",
      "text/plain": [
       "<matplotlib.figure.Figure at 0x282f9bf44e0>"
      ]
     },
     "metadata": {},
     "output_type": "display_data"
    }
   ],
   "source": [
    "tr_d, va_d, te_d = load_data()\n",
    "data_no = 31520  #No. of labeled data, should be 0-49999, a total of 50,000 images in this training set\n",
    "image= np.reshape(tr_d[0][data_no], (28, 28)) \n",
    "digit_in_image = tr_d[1][data_no]\n",
    "print(\"The hand-written digit in this image is\", digit_in_image)\n",
    "import matplotlib.pyplot as plt\n",
    "plt.imshow(image)\n",
    "plt.show()"
   ]
  },
  {
   "cell_type": "markdown",
   "metadata": {},
   "source": [
    "### 3.2 Implementation of neuron network"
   ]
  },
  {
   "cell_type": "code",
   "execution_count": 45,
   "metadata": {},
   "outputs": [],
   "source": [
    "# Import libraries\n",
    "import random\n",
    "import numpy as np\n",
    "\n",
    "class Network(object):\n",
    "    def __init__(self, sizes):\n",
    "        '''Initiate the network by number of neurons in each layer, for example sizes = [2,3,1] will \n",
    "        create a network with input layer of 2 neurons, one hidden layer of 3 neurons and output layer \n",
    "        of 1 neuron '''\n",
    "        self.num_layers  = len(sizes)\n",
    "        self.size    = sizes\n",
    "         #Initiate biases array, random number following Gaussian distributions with mean 0 and \n",
    "         # standard deviation 1\n",
    "        self.biases  = [ np.random.randn(y,1) for y in sizes[1:] ]\n",
    "         #Initiate weights matrix, pay attention to the matrix dimensions\n",
    "        self.weights = [ np.random.randn(y,x) for x,y in zip(sizes[:-1],sizes[1:])] \n",
    "\n",
    "    def feedforward(self,a):\n",
    "        '''Return the output of the network with input a'''\n",
    "        for w,b in zip(self.weights, self.biases):\n",
    "            a = self.sigmoid(np.dot(w,a) + b)\n",
    "        return a\n",
    "    \n",
    "    def SGD(self , training_data , epochs , mini_batch_size , eta, test_data= None, turnLogON= False):\n",
    "        \"\"\"Train the neural network using mini-batch stochastic gradient descent. The ``training_data `` \n",
    "        is a list of tuples ``(x, y)`` representing the training inputs and the desired outputs. The \n",
    "        other non-optional parameters are self-explanatory. If ``test_data `` is provided then the \n",
    "        network will be evaluated against the test data after each epoch, and partial progress printed \n",
    "        out. This is useful for tracking progress , but slows things down substantially.\"\"\"\n",
    "        if test_data:\n",
    "            n_test = len(test_data)\n",
    "            n = len(training_data)\n",
    "            iter_nums = []\n",
    "            accuracy  = []\n",
    "        for j in range(epochs):\n",
    "            # print(\"Epoch {0}\".format(j))\n",
    "            random.shuffle(training_data)\n",
    "            mini_batches = [ training_data[k:k+mini_batch_size] for k in range(0, n, mini_batch_size) ]\n",
    "            for mini_batch in mini_batches:\n",
    "                self.update_mini_batch(mini_batch, eta)\n",
    "            if test_data:\n",
    "                iter_nums.append(j*n/mini_batch_size)\n",
    "                accuracy.append(self.evaluate(test_data)/n_test)\n",
    "            else:\n",
    "                print(\"Epoch {0} complete\".format(j))\n",
    "        if turnLogON:\n",
    "            return iter_nums, accuracy\n",
    "            \n",
    "    def update_mini_batch(self , mini_batch , eta):\n",
    "        \"\"\"Update the network's weights and biases by applying gradient descent using backpropagation to \n",
    "        a single mini batch. The ``mini_batch `` is a list of tuples ``(x, y)``, and ``eta`` is the \n",
    "        learning rate.\"\"\"\n",
    "        nabla_b = [np.zeros(b.shape) for b in self.biases]\n",
    "        nabla_w = [np.zeros(w.shape) for w in self.weights]\n",
    "        for x, y in mini_batch:\n",
    "            delta_nabla_b , delta_nabla_w = self.backprop(x, y)\n",
    "            nabla_b = [nb+dnb for nb, dnb in zip(nabla_b , delta_nabla_b)]\n",
    "            nabla_w = [nw+dnw for nw, dnw in zip(nabla_w , delta_nabla_w)]\n",
    "        self.weights = [w-(eta/len(mini_batch))*nw  for w, nw in zip(self.weights, nabla_w)]\n",
    "        self.biases =  [b-(eta/len(mini_batch))*nb  for b, nb in zip(self.biases , nabla_b)]\n",
    "        \n",
    "    def backprop(self, x, y):\n",
    "        \"\"\"Return a tuple ``(nabla_b, nabla_w)`` representing the gradient for the cost function C_x. \n",
    "        ``nabla_b`` and ``nabla_w`` are layer-by-layer lists of numpy arrays, similar to ``self.biases`` \n",
    "        and ``self.weights``.\"\"\"\n",
    "        nabla_b = [np.zeros(b.shape) for b in self.biases]\n",
    "        nabla_w = [np.zeros(w.shape) for w in self.weights]\n",
    "        # feedforward\n",
    "        activation = x\n",
    "        activations = [x] # list to store all the activations, layer by layer\n",
    "        zs = [] # list to store all the z vectors, layer by layer\n",
    "        for b, w in zip(self.biases, self.weights):\n",
    "            z = np.dot(w, activation)+b\n",
    "            zs.append(z)\n",
    "            activation = self.sigmoid(z)\n",
    "            activations.append(activation)\n",
    "        # backward pass\n",
    "        delta = self.cost_derivative(activations[-1], y) * self.sigmoid_p(zs[-1])\n",
    "        nabla_b[-1] = delta\n",
    "        nabla_w[-1] = np.dot(delta, activations[-2].transpose())\n",
    "        # Note that the variable l in the loop below is used a little\n",
    "        # differently to the notation in Chapter 2 of the book. Here,\n",
    "        # l = 1 means the last layer of neurons, l = 2 is the\n",
    "        # second-last layer, and so on.  It's a renumbering of the\n",
    "        # scheme in the book, used here to take advantage of the fact\n",
    "        # that Python can use negative indices in lists.\n",
    "        for l in range(2, self.num_layers):\n",
    "            z = zs[-l]\n",
    "            sp = self.sigmoid_p(z)\n",
    "            delta = np.dot(self.weights[-l+1].transpose(), delta) * sp\n",
    "            nabla_b[-l] = delta\n",
    "            nabla_w[-l] = np.dot(delta, activations[-l-1].transpose())\n",
    "        return (nabla_b, nabla_w)\n",
    "    \n",
    "    def evaluate(self, test_data):\n",
    "        \"\"\"Return the number of test inputs for which the neural network outputs the correct result. Note \n",
    "        that the neural network's output is assumed to be the index of whichever neuron in the final \n",
    "        layer has the highest activation.\"\"\"\n",
    "        test_results = [(np.argmax(self.feedforward(x)), y) for (x, y) in test_data]\n",
    "        return sum(int(x == y) for (x, y) in test_results)\n",
    "\n",
    "    def cost_derivative(self, output_activations, y):\n",
    "        \"\"\"Return the vector of partial derivatives \\partial C_x /\\partial a for the output activations.\n",
    "        \"\"\"\n",
    "        return (output_activations-y)\n",
    "    \n",
    "    # Miscellaneous functions \n",
    "    def sigmoid(self, z):\n",
    "        return 1.0/( 1.0 + np.exp(-z) )\n",
    "    def sigmoid_p(self, z):\n",
    "        '''The first derivative of sigmoid function'''\n",
    "        return 1.0/( 1.0 + np.exp(-z) )/( 1.0 + np.exp(z) )"
   ]
  },
  {
   "cell_type": "markdown",
   "metadata": {},
   "source": [
    "### 3.3.1 Influence of different learning rate"
   ]
  },
  {
   "cell_type": "code",
   "execution_count": 50,
   "metadata": {},
   "outputs": [
    {
     "data": {
      "image/png": "[encoded data removed]",
      "text/plain": [
       "<matplotlib.figure.Figure at 0x28290d3a588>"
      ]
     },
     "metadata": {},
     "output_type": "display_data"
    }
   ],
   "source": [
    "#########################################################################################################\n",
    "# Loading data from MNIST\n",
    "training_data, validation_data, test_data = load_data_wrapper()\n",
    "training_data   = list(training_data)\n",
    "validation_data = list(validation_data)\n",
    "test_data       = list(test_data)\n",
    "\n",
    "#Plot detailed results for analysis\n",
    "import matplotlib\n",
    "import matplotlib.pyplot as plt\n",
    "\n",
    "font = {'family' : 'Times New Roman',\n",
    "        'weight' : 'normal',\n",
    "        'size'   : 16}\n",
    "matplotlib.rc('font', **font)\n",
    "\n",
    "fig = plt.figure(figsize=(8, 6))\n",
    "ax = fig.add_subplot(111)\n",
    "\n",
    "value_list = [0.1, 1.0, 10.0, 100.0]\n",
    "for value in value_list:\n",
    "    epochs= 30\n",
    "    mini_batch_size= 10 \n",
    "    eta = value\n",
    "    net = Network([784, 30, 10])\n",
    "    iter_nums, accuracy = net.SGD(training_data, epochs= epochs, mini_batch_size= mini_batch_size, \n",
    "                                  eta = eta, test_data=test_data, turnLogON=True)\n",
    "    line_label = r\"Epoch={0};Batch size={1};$\\eta$={2}\".format(epochs,mini_batch_size,eta)\n",
    "    plt.plot( iter_nums, accuracy, label=line_label, linewidth=2.0)\n",
    "\n",
    "ax.set_xlabel(\"Iteration Numbers /#\")\n",
    "ax.set_ylabel(\"Recognition Accuracy /%\")\n",
    "plt.legend()\n",
    "plt.show()"
   ]
  },
  {
   "cell_type": "markdown",
   "metadata": {},
   "source": [
    "### Exercise\n",
    "* Try creating a network with just two layers – an input and an output layer, no hidden\n",
    "layer – with 784 and 10 neurons, respectively. Train the network using stochastic\n",
    "gradient descent. What classification accuracy can you achieve?\n",
    "* SVG algorithm\n",
    "* Guess digit by darkness"
   ]
  },
  {
   "cell_type": "markdown",
   "metadata": {},
   "source": [
    "### 3.3.2 Influence of network depth"
   ]
  },
  {
   "cell_type": "code",
   "execution_count": null,
   "metadata": {},
   "outputs": [],
   "source": []
  }
 ],
 "metadata": {
  "kernelspec": {
   "display_name": "Python 3",
   "language": "python",
   "name": "python3"
  },
  "language_info": {
   "codemirror_mode": {
    "name": "ipython",
    "version": 3
   },
   "file_extension": ".py",
   "mimetype": "text/x-python",
   "name": "python",
   "nbconvert_exporter": "python",
   "pygments_lexer": "ipython3",
   "version": "3.6.2"
  }
 },
 "nbformat": 4,
 "nbformat_minor": 2
}
