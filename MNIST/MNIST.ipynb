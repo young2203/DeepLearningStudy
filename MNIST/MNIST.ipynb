{
 "cells": [
  {
   "cell_type": "code",
   "execution_count": 1,
   "metadata": {},
   "outputs": [],
   "source": [
    "import gzip\n",
    "f = gzip.open('train-images-idx3-ubyte.gz','r')\n",
    "\n",
    "image_size = 28\n",
    "num_images = 5\n",
    "\n",
    "import numpy as np\n",
    "f.read(16)\n",
    "buf = f.read(image_size * image_size * num_images)\n",
    "data = np.frombuffer(buf, dtype=np.uint8).astype(np.float32)\n",
    "data = data.reshape(num_images, image_size, image_size, 1)"
   ]
  },
  {
   "cell_type": "code",
   "execution_count": 3,
   "metadata": {},
   "outputs": [
    {
     "data": {
      "image/png": "[encoded data removed]",
      "text/plain": [
       "<matplotlib.figure.Figure at 0x28389cbe470>"
      ]
     },
     "metadata": {},
     "output_type": "display_data"
    }
   ],
   "source": [
    "import matplotlib.pyplot as plt\n",
    "image = np.asarray(data[2]).squeeze()\n",
    "plt.imshow(image)\n",
    "plt.show()"
   ]
  },
  {
   "cell_type": "code",
   "execution_count": 4,
   "metadata": {},
   "outputs": [],
   "source": [
    "import numpy as np\n",
    "import cv2\n",
    "import struct\n",
    "\n",
    "\n",
    "def extract_labels(mnist_label_file_path, label_file_path):\n",
    "    with open(mnist_label_file_path, \"rb\") as mnist_label_file:\n",
    "        # 32 bit integer magic number\n",
    "        mnist_label_file.read(4)\n",
    "        # 32 bit integer number of items\n",
    "        mnist_label_file.read(4)\n",
    "        # actual test label\n",
    "        label_file = open(label_file_path, \"w\")\n",
    "        label = mnist_label_file.read(1)\n",
    "        while label:\n",
    "            label_file.writelines(str(label[0]) + \"\\n\")\n",
    "            label = mnist_label_file.read(1)\n",
    "        label_file.close()\n",
    "\n",
    "\n",
    "def extract_images(images_file_path, images_save_folder):\n",
    "    # images_file_path = \"./t10k-images-idx3-ubyte\"\n",
    "    with open(images_file_path, \"rb\") as images_file:\n",
    "        # 32 bit integer magic number\n",
    "        images_file.read(4)\n",
    "        # 32 bit integer number of images\n",
    "        images_file.read(4)\n",
    "        # 32 bit number of rows\n",
    "        images_file.read(4)\n",
    "        # 32 bit number of columns\n",
    "        images_file.read(4)\n",
    "        # every image contain 28 x 28 = 784 byte, so read 784 bytes each time\n",
    "        count = 1\n",
    "        image = np.zeros((28, 28, 1), np.uint8)\n",
    "        image_bytes = images_file.read(784)\n",
    "        while image_bytes:\n",
    "            image_unsigned_char = struct.unpack(\"=784B\", image_bytes)\n",
    "            for i in range(784):\n",
    "                image.itemset(i, image_unsigned_char[i])\n",
    "            image_save_path = \"./%s/%d.png\" % (images_save_folder, count)\n",
    "            cv2.imwrite(image_save_path, image)\n",
    "            print(count)\n",
    "            image_bytes = images_file.read(784)\n",
    "            count += 1"
   ]
  },
  {
   "cell_type": "code",
   "execution_count": 14,
   "metadata": {},
   "outputs": [],
   "source": [
    "extract_labels(r\".\\train-labels-idx1-ubyte\", r\".\\label.txt\")"
   ]
  },
  {
   "cell_type": "code",
   "execution_count": null,
   "metadata": {},
   "outputs": [],
   "source": []
  }
 ],
 "metadata": {
  "kernelspec": {
   "display_name": "Python 3",
   "language": "python",
   "name": "python3"
  },
  "language_info": {
   "codemirror_mode": {
    "name": "ipython",
    "version": 3
   },
   "file_extension": ".py",
   "mimetype": "text/x-python",
   "name": "python",
   "nbconvert_exporter": "python",
   "pygments_lexer": "ipython3",
   "version": "3.6.2"
  }
 },
 "nbformat": 4,
 "nbformat_minor": 2
}
